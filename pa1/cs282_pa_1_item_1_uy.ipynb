{
 "cells": [
  {
   "cell_type": "markdown",
   "metadata": {},
   "source": [
    "# CS 282\n",
    "### Programming Assignment 1\n",
    "#### Item 1\n",
    "\n",
    "Jan Lendl R. Uy\n",
    "\n",
    "2019-00312"
   ]
  },
  {
   "cell_type": "code",
   "execution_count": null,
   "metadata": {},
   "outputs": [],
   "source": [
    "!pip install -r requirements.txt"
   ]
  },
  {
   "cell_type": "code",
   "execution_count": 11,
   "metadata": {},
   "outputs": [],
   "source": [
    "import cv2\n",
    "import numpy as np\n",
    "import math"
   ]
  },
  {
   "cell_type": "markdown",
   "metadata": {},
   "source": [
    "### 1(a)\n",
    "\n",
    "Select a negative floating-point number. Take its absolute value, round it, and then take its ceiling and floor. Print the results to screen."
   ]
  },
  {
   "cell_type": "code",
   "execution_count": null,
   "metadata": {},
   "outputs": [
    {
     "name": "stdout",
     "output_type": "stream",
     "text": [
      "Chosen floating-point number: -5.44444\n",
      "Absolute value of -5.44444: 5.44444\n",
      "Rounded-off value of 5.44444: 5.44\n",
      "Ceiling of 5.44: 6\n",
      "Floor of 5.44: 5\n"
     ]
    }
   ],
   "source": [
    "# x = -5.44444\n",
    "x = input(\"Enter a negative floating-point number: \")\n",
    "print(f\"Chosen floating-point number: {x}\")\n",
    "\n",
    "y = abs(x)\n",
    "print(f\"Absolute value of {x}: {y}\")\n",
    "\n",
    "z = round(y, 2)\n",
    "print(f\"Rounded-off value of {y}: {z}\")\n",
    "\n",
    "print(f\"Ceiling of {z}: {math.ceil(z)}\")\n",
    "print(f\"Floor of {z}: {math.floor(z)}\")"
   ]
  },
  {
   "cell_type": "markdown",
   "metadata": {},
   "source": [
    "### 1(b)\n",
    "\n",
    "Generate a 3 ×4 matrix whose elements are random integers. Print the matrix."
   ]
  },
  {
   "cell_type": "code",
   "execution_count": 13,
   "metadata": {},
   "outputs": [
    {
     "name": "stdout",
     "output_type": "stream",
     "text": [
      "Random 3x4 matrix:\n",
      "[[ 1  1  2  3]\n",
      " [10  8  2  8]\n",
      " [ 1  0  6 11]]\n"
     ]
    }
   ],
   "source": [
    "# Create base matrix using numpy first (since cv2.Mat wraps numpy arrays)\n",
    "base_arr = np.zeros((3, 4), dtype=np.float32)\n",
    "dst = cv2.Mat(base_arr)\n",
    "\n",
    "# Create bounds\n",
    "low = cv2.Mat(np.array([0], dtype=np.float32))\n",
    "high = cv2.Mat(np.array([11], dtype=np.float32))\n",
    "\n",
    "# Generate random numbers\n",
    "cv2.randu(dst, low, high)\n",
    "\n",
    "# Convert to integers\n",
    "X = cv2.convertScaleAbs(dst)\n",
    "\n",
    "print(f\"Random 3x4 matrix:\\n{X}\")"
   ]
  },
  {
   "cell_type": "markdown",
   "metadata": {},
   "source": [
    "### 1(c)\n",
    "\n",
    "Declare matrix variables A,B, and integer variable c within OpenCV. Assign them with the following values:"
   ]
  },
  {
   "cell_type": "code",
   "execution_count": 14,
   "metadata": {},
   "outputs": [],
   "source": [
    "A_list = [\n",
    "    [6, 0, 2, 2, 6, 5, 9, 7, 1],\n",
    "    [1, 6, 4, 5, 4, 9, 6, 9, 2],\n",
    "    [3, 5, 9, 5, 3, 7, 8, 3, 3]\n",
    "]\n",
    "\n",
    "# Convert list to NumPy array and then to cv2.Mat\n",
    "A = cv2.Mat(np.array(A_list, dtype=np.float32))\n",
    "\n",
    "B_list = [\n",
    "    [9, 1, 9, 7, 0, 5, 2, 0, 3],\n",
    "    [9, 2, 3, 4, 3, 6, 0, 2, 9],\n",
    "    [7, 2, 6, 0, 3, 8, 4, 2, 1]\n",
    "]\n",
    "\n",
    "B = cv2.Mat(np.array(B_list, dtype=np.float32))\n",
    "\n",
    "c = 0.7\n",
    "d = 0.55"
   ]
  },
  {
   "cell_type": "markdown",
   "metadata": {},
   "source": [
    "### 1(c)(i)\n",
    "\n",
    "$cA+ (1−c)B+ d$"
   ]
  },
  {
   "cell_type": "code",
   "execution_count": 15,
   "metadata": {},
   "outputs": [
    {
     "name": "stdout",
     "output_type": "stream",
     "text": [
      "cA + (1-c)B + d =\n",
      "[[7.45 0.85 4.65 4.05 4.75 5.55 7.45 5.45 2.15]\n",
      " [3.95 5.35 4.25 5.25 4.25 8.65 4.75 7.45 4.65]\n",
      " [4.75 4.65 8.65 4.05 3.55 7.85 7.35 3.25 2.95]]\n"
     ]
    }
   ],
   "source": [
    "answer = cv2.addWeighted(A, c, B, (1-c), d)\n",
    "print(f\"cA + (1-c)B + d =\\n{answer}\")"
   ]
  },
  {
   "cell_type": "markdown",
   "metadata": {},
   "source": [
    "### 1(c)(ii)\n",
    "\n",
    "$A^{-1}$"
   ]
  },
  {
   "cell_type": "code",
   "execution_count": 16,
   "metadata": {},
   "outputs": [
    {
     "name": "stdout",
     "output_type": "stream",
     "text": [
      "A inverse =\n",
      "[[ 0.05945878 -0.05401656  0.01753457]\n",
      " [-0.05320862  0.04879997  0.01134174]\n",
      " [-0.0269275  -0.04142783  0.08788505]\n",
      " [-0.02188468  0.0187535   0.01635406]\n",
      " [ 0.04004977 -0.00269519 -0.01477109]\n",
      " [-0.0162382   0.04623588 -0.00497328]\n",
      " [ 0.05000122 -0.04173273  0.03101051]\n",
      " [ 0.02012855  0.07637076 -0.07149199]\n",
      " [-0.00914656 -0.00456109  0.02115661]]\n"
     ]
    }
   ],
   "source": [
    "s, u, vt = cv2.SVDecomp(A)\n",
    "s_reciprocal = 1/s.flatten()\n",
    "S_inv = np.diag(s_reciprocal)\n",
    "\n",
    "A_inv = vt.T @ S_inv @ u.T\n",
    "print(f\"A inverse =\\n{A_inv}\")"
   ]
  },
  {
   "cell_type": "markdown",
   "metadata": {},
   "source": [
    "### 1(c)(iii)\n",
    "\n",
    "$eig(B)$"
   ]
  },
  {
   "cell_type": "code",
   "execution_count": 17,
   "metadata": {},
   "outputs": [],
   "source": [
    "# TODO"
   ]
  },
  {
   "cell_type": "markdown",
   "metadata": {},
   "source": [
    "### 1(c)(iv)\n",
    "\n",
    "Solve the matrix equation $Ax=b$"
   ]
  },
  {
   "cell_type": "code",
   "execution_count": null,
   "metadata": {},
   "outputs": [
    {
     "name": "stdout",
     "output_type": "stream",
     "text": [
      "x =\n",
      "[[-0.12960133  0.20679535 -0.02963119]\n",
      " [ 0.22734086 -0.15710144  0.19240707]\n",
      " [-0.01923707 -0.1296081   0.06125021]\n",
      " [ 0.13103671 -0.05556234  0.13872898]\n",
      " [ 0.04219861  0.18008736  0.09006076]\n",
      " [ 0.25504342  0.00630747  0.2588563 ]\n",
      " [-0.01808339  0.19755116  0.10220735]\n",
      " [ 0.309013    0.18189228  0.2826569 ]\n",
      " [ 0.02525914 -0.03369838  0.04471815]]\n"
     ]
    }
   ],
   "source": [
    "b_list = [\n",
    "    [3, 5, 5],\n",
    "    [7, 2, 8],\n",
    "    [4, 1, 6]\n",
    "]\n",
    "\n",
    "b = cv2.Mat(np.array(b_list, dtype=np.float32))\n",
    "\n",
    "x = A_inv @ b\n",
    "print(f\"x =\\n{x}\")"
   ]
  },
  {
   "cell_type": "markdown",
   "metadata": {},
   "source": [
    "### 1(d)\n",
    "\n",
    "Create a 2D matrix with three channels of type byte and size 100-by-100 and set all values to zero. Draw a red rectangle between with corners (30,10) and (60,40). Display this image."
   ]
  },
  {
   "cell_type": "code",
   "execution_count": 19,
   "metadata": {},
   "outputs": [
    {
     "name": "stdout",
     "output_type": "stream",
     "text": [
      "Displaying red rectangle\n"
     ]
    },
    {
     "data": {
      "text/plain": [
       "3"
      ]
     },
     "execution_count": 19,
     "metadata": {},
     "output_type": "execute_result"
    }
   ],
   "source": [
    "# Channels are the third dimension\n",
    "# Use np.uint8 for byte-type\n",
    "img = np.zeros((100, 100, 3), dtype=np.uint8)\n",
    "\n",
    "# Draw red rectangle\n",
    "# Red channel is the last channel in BGR format\n",
    "# Set red channel to 255 in rectangle area\n",
    "img[10:41, 30:61, 2] = 255\n",
    "\n",
    "# Display image\n",
    "print(\"Displaying red rectangle\")\n",
    "cv2.imshow('Red Rectangle', img)\n",
    "cv2.waitKey(0)"
   ]
  },
  {
   "cell_type": "markdown",
   "metadata": {},
   "source": [
    "### 1(e)\n",
    "\n",
    "Copy the red channel in (d) above into another matrix for display as grayscale image."
   ]
  },
  {
   "cell_type": "code",
   "execution_count": null,
   "metadata": {},
   "outputs": [
    {
     "name": "stdout",
     "output_type": "stream",
     "text": [
      "Displaying red rectangle in grayscale\n"
     ]
    },
    {
     "data": {
      "text/plain": [
       "3"
      ]
     },
     "execution_count": 20,
     "metadata": {},
     "output_type": "execute_result"
    },
    {
     "ename": "",
     "evalue": "",
     "output_type": "error",
     "traceback": [
      "\u001b[1;31mThe Kernel crashed while executing code in the current cell or a previous cell. \n",
      "\u001b[1;31mPlease review the code in the cell(s) to identify a possible cause of the failure. \n",
      "\u001b[1;31mClick <a href='https://aka.ms/vscodeJupyterKernelCrash'>here</a> for more info. \n",
      "\u001b[1;31mView Jupyter <a href='command:jupyter.viewOutput'>log</a> for further details."
     ]
    }
   ],
   "source": [
    "# Only get red channel and discard green and blue channels\n",
    "red_channel = img[:, :, 2].copy()\n",
    "print(\"Displaying red rectangle in grayscale\")\n",
    "cv2.imshow('Red Channel as Grayscale', red_channel)\n",
    "cv2.waitKey(0)"
   ]
  }
 ],
 "metadata": {
  "kernelspec": {
   "display_name": "venv",
   "language": "python",
   "name": "python3"
  },
  "language_info": {
   "codemirror_mode": {
    "name": "ipython",
    "version": 3
   },
   "file_extension": ".py",
   "mimetype": "text/x-python",
   "name": "python",
   "nbconvert_exporter": "python",
   "pygments_lexer": "ipython3",
   "version": "3.11.3"
  }
 },
 "nbformat": 4,
 "nbformat_minor": 2
}
