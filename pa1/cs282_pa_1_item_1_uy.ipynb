{
 "cells": [
  {
   "cell_type": "markdown",
   "metadata": {},
   "source": [
    "# CS 282\n",
    "### Programming Assignment 1\n",
    "#### Item 1\n",
    "\n",
    "Jan Lendl R. Uy\n",
    "\n",
    "2019-00312\n",
    "\n",
    "#### Sytem Specifications\n",
    "- macOS Sequoia 15.0.1\n",
    "- Macbook Air M1 (ARM), 8-Core CPU and 8-Core GPU\n",
    "\n",
    "#### Notes when Running the Notebook\n",
    "- For items 1d and 1e, press any key to terminate OpenCV2 windows.\n",
    "  - OpenCV2 windows tend to be buggy when attempted to be closed. They are best terminated through the following:\n",
    "    - For macOS: Click 'Force Quit' in Activity Monitor\n",
    "    - For Windows: Click 'End Task' in Task Manager"
   ]
  },
  {
   "cell_type": "code",
   "execution_count": 5,
   "metadata": {},
   "outputs": [
    {
     "name": "stdout",
     "output_type": "stream",
     "text": [
      "Requirement already satisfied: opencv-python==4.11.0.86 in /Users/lendluy/cs282/venv/lib/python3.11/site-packages (from -r requirements.txt (line 1)) (4.11.0.86)\n",
      "Requirement already satisfied: pillow in /Users/lendluy/cs282/venv/lib/python3.11/site-packages (from -r requirements.txt (line 2)) (11.1.0)\n",
      "Requirement already satisfied: matplotlib in /Users/lendluy/cs282/venv/lib/python3.11/site-packages (from -r requirements.txt (line 3)) (3.10.0)\n",
      "Requirement already satisfied: numpy>=1.21.2 in /Users/lendluy/cs282/venv/lib/python3.11/site-packages (from opencv-python==4.11.0.86->-r requirements.txt (line 1)) (2.2.3)\n",
      "Requirement already satisfied: contourpy>=1.0.1 in /Users/lendluy/cs282/venv/lib/python3.11/site-packages (from matplotlib->-r requirements.txt (line 3)) (1.3.1)\n",
      "Requirement already satisfied: cycler>=0.10 in /Users/lendluy/cs282/venv/lib/python3.11/site-packages (from matplotlib->-r requirements.txt (line 3)) (0.12.1)\n",
      "Requirement already satisfied: fonttools>=4.22.0 in /Users/lendluy/cs282/venv/lib/python3.11/site-packages (from matplotlib->-r requirements.txt (line 3)) (4.56.0)\n",
      "Requirement already satisfied: kiwisolver>=1.3.1 in /Users/lendluy/cs282/venv/lib/python3.11/site-packages (from matplotlib->-r requirements.txt (line 3)) (1.4.8)\n",
      "Requirement already satisfied: packaging>=20.0 in /Users/lendluy/cs282/venv/lib/python3.11/site-packages (from matplotlib->-r requirements.txt (line 3)) (24.2)\n",
      "Requirement already satisfied: pyparsing>=2.3.1 in /Users/lendluy/cs282/venv/lib/python3.11/site-packages (from matplotlib->-r requirements.txt (line 3)) (3.2.1)\n",
      "Requirement already satisfied: python-dateutil>=2.7 in /Users/lendluy/cs282/venv/lib/python3.11/site-packages (from matplotlib->-r requirements.txt (line 3)) (2.9.0.post0)\n",
      "Requirement already satisfied: six>=1.5 in /Users/lendluy/cs282/venv/lib/python3.11/site-packages (from python-dateutil>=2.7->matplotlib->-r requirements.txt (line 3)) (1.17.0)\n",
      "\n",
      "\u001b[1m[\u001b[0m\u001b[34;49mnotice\u001b[0m\u001b[1;39;49m]\u001b[0m\u001b[39;49m A new release of pip available: \u001b[0m\u001b[31;49m22.3.1\u001b[0m\u001b[39;49m -> \u001b[0m\u001b[32;49m25.0.1\u001b[0m\n",
      "\u001b[1m[\u001b[0m\u001b[34;49mnotice\u001b[0m\u001b[1;39;49m]\u001b[0m\u001b[39;49m To update, run: \u001b[0m\u001b[32;49mpip install --upgrade pip\u001b[0m\n"
     ]
    }
   ],
   "source": [
    "!pip install -r requirements.txt"
   ]
  },
  {
   "cell_type": "code",
   "execution_count": 6,
   "metadata": {},
   "outputs": [],
   "source": [
    "import cv2\n",
    "import math"
   ]
  },
  {
   "cell_type": "markdown",
   "metadata": {},
   "source": [
    "### 1(a)\n",
    "\n",
    "Select a negative floating-point number. Take its absolute value, round it, and then take its ceiling and floor. Print the results to screen."
   ]
  },
  {
   "cell_type": "code",
   "execution_count": 7,
   "metadata": {},
   "outputs": [
    {
     "name": "stdout",
     "output_type": "stream",
     "text": [
      "Chosen floating-point number: -5.4444\n",
      "Absolute value of -5.4444: 5.4444\n",
      "Rounded-off value of 5.4444: 5.44\n",
      "Ceiling of 5.44: 6\n",
      "Floor of 5.44: 5\n"
     ]
    }
   ],
   "source": [
    "# x = -5.44444\n",
    "x = float(input(\"Enter a negative floating-point number: \"))\n",
    "print(f\"Chosen floating-point number: {x}\")\n",
    "\n",
    "y = abs(x)\n",
    "print(f\"Absolute value of {x}: {y}\")\n",
    "\n",
    "z = round(y, 2)\n",
    "print(f\"Rounded-off value of {y}: {z}\")\n",
    "\n",
    "# Note: opencv2 has no built-in functions for getting the ceiling and floor\n",
    "print(f\"Ceiling of {z}: {math.ceil(z)}\")\n",
    "print(f\"Floor of {z}: {math.floor(z)}\")"
   ]
  },
  {
   "cell_type": "markdown",
   "metadata": {},
   "source": [
    "### 1(b)\n",
    "\n",
    "Generate a 3 ×4 matrix whose elements are random integers. Print the matrix."
   ]
  },
  {
   "cell_type": "code",
   "execution_count": 8,
   "metadata": {},
   "outputs": [],
   "source": [
    "# Note: opencv2 arrays are a wrapper of numpy arrays\n",
    "# Thus, the usage of numpy for matrix operations is inevitable\n",
    "import numpy as np"
   ]
  },
  {
   "cell_type": "code",
   "execution_count": 9,
   "metadata": {},
   "outputs": [
    {
     "name": "stdout",
     "output_type": "stream",
     "text": [
      "Random 3x4 matrix:\n",
      "[[5 2 4 8]\n",
      " [4 2 8 8]\n",
      " [3 7 5 8]]\n"
     ]
    }
   ],
   "source": [
    "# Create base matrix using numpy first (since cv2.Mat wraps numpy arrays)\n",
    "base_mtx = np.zeros((3, 4), dtype=np.float32)\n",
    "dst_mtx = cv2.Mat(base_mtx)\n",
    "\n",
    "# Generate random numbers (floating-point)\n",
    "# Range of possible random values are from 0 to 10\n",
    "cv2.randu(dst_mtx, 0, 10)\n",
    "\n",
    "# Convert to integers\n",
    "X = cv2.convertScaleAbs(dst_mtx)\n",
    "\n",
    "print(f\"Random 3x4 matrix:\\n{X}\")"
   ]
  },
  {
   "cell_type": "markdown",
   "metadata": {},
   "source": [
    "### 1(c)\n",
    "\n",
    "Declare matrix variables A,B, and integer variable c within OpenCV. Assign them with the following values:"
   ]
  },
  {
   "cell_type": "code",
   "execution_count": 10,
   "metadata": {},
   "outputs": [],
   "source": [
    "# Convert list to NumPy array and then to cv2.Mat\n",
    "# Note: opencv2 requires an input array of type numpy.array \n",
    "# for initialization\n",
    "A_list = [\n",
    "    [6, 0, 2, 2, 6, 5, 9, 7, 1],\n",
    "    [1, 6, 4, 5, 4, 9, 6, 9, 2],\n",
    "    [3, 5, 9, 5, 3, 7, 8, 3, 3]\n",
    "]\n",
    "\n",
    "A = cv2.Mat(np.array(A_list, dtype=np.float32))\n",
    "\n",
    "B_list = [\n",
    "    [9, 1, 9, 7, 0, 5, 2, 0, 3],\n",
    "    [9, 2, 3, 4, 3, 6, 0, 2, 9],\n",
    "    [7, 2, 6, 0, 3, 8, 4, 2, 1]\n",
    "]\n",
    "\n",
    "B = cv2.Mat(np.array(B_list, dtype=np.float32))\n",
    "\n",
    "c = 0.7\n",
    "d = 0.55"
   ]
  },
  {
   "cell_type": "markdown",
   "metadata": {},
   "source": [
    "### 1(c)(i)\n",
    "\n",
    "$cA+ (1−c)B+ d$"
   ]
  },
  {
   "cell_type": "code",
   "execution_count": 12,
   "metadata": {},
   "outputs": [
    {
     "name": "stdout",
     "output_type": "stream",
     "text": [
      "cA + (1-c)B + d =\n",
      "[[7.45 0.85 4.65 4.05 4.75 5.55 7.45 5.45 2.15]\n",
      " [3.95 5.35 4.25 5.25 4.25 8.65 4.75 7.45 4.65]\n",
      " [4.75 4.65 8.65 4.05 3.55 7.85 7.35 3.25 2.95]]\n"
     ]
    }
   ],
   "source": [
    "answer = cv2.addWeighted(A, c, B, (1-c), d)\n",
    "print(f\"cA + (1-c)B + d =\\n{answer}\")"
   ]
  },
  {
   "cell_type": "markdown",
   "metadata": {},
   "source": [
    "### 1(c)(ii)\n",
    "\n",
    "$A^{-1}$\n",
    "\n",
    "Note: Get Moore-Penrose pseudoinverse via SVD since A is not square"
   ]
  },
  {
   "cell_type": "code",
   "execution_count": 13,
   "metadata": {},
   "outputs": [
    {
     "name": "stdout",
     "output_type": "stream",
     "text": [
      "A inverse =\n",
      "[[ 0.05945878 -0.05401656  0.01753457]\n",
      " [-0.05320862  0.04879997  0.01134174]\n",
      " [-0.0269275  -0.04142783  0.08788505]\n",
      " [-0.02188468  0.0187535   0.01635406]\n",
      " [ 0.04004977 -0.00269519 -0.01477109]\n",
      " [-0.0162382   0.04623588 -0.00497328]\n",
      " [ 0.05000122 -0.04173273  0.03101051]\n",
      " [ 0.02012855  0.07637076 -0.07149199]\n",
      " [-0.00914656 -0.00456109  0.02115661]]\n"
     ]
    }
   ],
   "source": [
    "s, u, vt = cv2.SVDecomp(A)\n",
    "s_reciprocal = 1/s.flatten()\n",
    "S_inv = np.diag(s_reciprocal)\n",
    "\n",
    "A_inv = vt.T @ S_inv @ u.T\n",
    "print(f\"A inverse =\\n{A_inv}\")"
   ]
  },
  {
   "cell_type": "markdown",
   "metadata": {},
   "source": [
    "### 1(c)(iii)\n",
    "\n",
    "$eig(B)$\n",
    "\n",
    "#### Notes\n",
    "- Rectangular matrices do **not** have eigenvalues, but their singular values can be obtained via SVD.\n",
    "- $\\mathrm{singular\\_values}(B) = sqrt(eig(BB^T))$"
   ]
  },
  {
   "cell_type": "code",
   "execution_count": 14,
   "metadata": {},
   "outputs": [
    {
     "name": "stdout",
     "output_type": "stream",
     "text": [
      "Singular values of B =\n",
      "[[23.978624 ]\n",
      " [ 7.4619093]\n",
      " [ 6.5073414]]\n"
     ]
    }
   ],
   "source": [
    "_, eigenvalues, _ = cv2.eigen(B @ B.T)\n",
    "singular_values_B = np.sqrt(eigenvalues)\n",
    "print(f\"Singular values of B =\\n{singular_values_B}\")"
   ]
  },
  {
   "cell_type": "markdown",
   "metadata": {},
   "source": [
    "Operation above can be verified by directly obtaining the singular values through SVD as follows."
   ]
  },
  {
   "cell_type": "code",
   "execution_count": 15,
   "metadata": {},
   "outputs": [
    {
     "name": "stdout",
     "output_type": "stream",
     "text": [
      "Singular values of B =\n",
      "[[23.978622 ]\n",
      " [ 7.461909 ]\n",
      " [ 6.5073414]]\n"
     ]
    }
   ],
   "source": [
    "s_B, u_B, vt_B = cv2.SVDecomp(B)\n",
    "print(f\"Singular values of B =\\n{s_B}\")"
   ]
  },
  {
   "cell_type": "markdown",
   "metadata": {},
   "source": [
    "### 1(c)(iv)\n",
    "\n",
    "Solve the matrix equation $Ax=b$"
   ]
  },
  {
   "cell_type": "code",
   "execution_count": 16,
   "metadata": {},
   "outputs": [
    {
     "name": "stdout",
     "output_type": "stream",
     "text": [
      "x =\n",
      "[[-0.12960133  0.20679535 -0.02963119]\n",
      " [ 0.22734086 -0.15710144  0.19240707]\n",
      " [-0.01923707 -0.1296081   0.06125021]\n",
      " [ 0.13103671 -0.05556234  0.13872898]\n",
      " [ 0.04219861  0.18008736  0.09006076]\n",
      " [ 0.25504342  0.00630747  0.2588563 ]\n",
      " [-0.01808339  0.19755116  0.10220735]\n",
      " [ 0.309013    0.18189228  0.2826569 ]\n",
      " [ 0.02525914 -0.03369838  0.04471815]]\n"
     ]
    }
   ],
   "source": [
    "b_list = [\n",
    "    [3, 5, 5],\n",
    "    [7, 2, 8],\n",
    "    [4, 1, 6]\n",
    "]\n",
    "\n",
    "b = cv2.Mat(np.array(b_list, dtype=np.float32))\n",
    "\n",
    "# Use A_inv obtained from item 1(c)(ii)\n",
    "x = A_inv @ b\n",
    "print(f\"x =\\n{x}\")"
   ]
  },
  {
   "cell_type": "markdown",
   "metadata": {},
   "source": [
    "### 1(d)\n",
    "\n",
    "Create a 2D matrix with three channels of type byte and size 100-by-100 and set all values to zero. Draw a red rectangle between with corners (30,10) and (60,40). Display this image."
   ]
  },
  {
   "cell_type": "code",
   "execution_count": null,
   "metadata": {},
   "outputs": [
    {
     "name": "stdout",
     "output_type": "stream",
     "text": [
      "Displaying red rectangle\n"
     ]
    },
    {
     "name": "stderr",
     "output_type": "stream",
     "text": [
      "2025-03-02 14:29:57.067 Python[56241:21724738] +[IMKClient subclass]: chose IMKClient_Legacy\n",
      "2025-03-02 14:29:57.067 Python[56241:21724738] +[IMKInputSession subclass]: chose IMKInputSession_Legacy\n"
     ]
    },
    {
     "data": {
      "text/plain": [
       "113"
      ]
     },
     "execution_count": 17,
     "metadata": {},
     "output_type": "execute_result"
    }
   ],
   "source": [
    "# Initialize zero matrix \n",
    "# Channels are the third dimension\n",
    "# Use np.uint8 for byte-type\n",
    "img = np.zeros((100, 100, 3), dtype=np.uint8)\n",
    "\n",
    "# Draw red rectangle\n",
    "# Red channel is the last channel in BGR format\n",
    "# Set red channel to 255 in rectangle area\n",
    "# -1 means fill entire shape\n",
    "cv2.rectangle(img, (30, 10), (60, 40), (0, 0, 255), -1)\n",
    "\n",
    "# Display image\n",
    "print(\"Displaying red rectangle\")\n",
    "cv2.imshow(\"Red Rectangle\", img)\n",
    "cv2.waitKey(0)"
   ]
  },
  {
   "cell_type": "markdown",
   "metadata": {},
   "source": [
    "### 1(e)\n",
    "\n",
    "Copy the red channel in (d) above into another matrix for display as grayscale image."
   ]
  },
  {
   "cell_type": "code",
   "execution_count": 18,
   "metadata": {},
   "outputs": [
    {
     "name": "stdout",
     "output_type": "stream",
     "text": [
      "Displaying red rectangle in grayscale\n"
     ]
    },
    {
     "data": {
      "text/plain": [
       "113"
      ]
     },
     "execution_count": 18,
     "metadata": {},
     "output_type": "execute_result"
    }
   ],
   "source": [
    "# Only get red channel and discard green and blue channels\n",
    "red_channel = img[:, :, 2].copy()\n",
    "\n",
    "# Display the red channel as grayscale\n",
    "print(\"Displaying red rectangle in grayscale\")\n",
    "cv2.imshow(\"Red Channel as Grayscale\", red_channel)\n",
    "cv2.waitKey(0)"
   ]
  },
  {
   "cell_type": "code",
   "execution_count": 19,
   "metadata": {},
   "outputs": [],
   "source": [
    "# Clean-up\n",
    "cv2.destroyAllWindows()"
   ]
  }
 ],
 "metadata": {
  "kernelspec": {
   "display_name": "venv",
   "language": "python",
   "name": "python3"
  },
  "language_info": {
   "codemirror_mode": {
    "name": "ipython",
    "version": 3
   },
   "file_extension": ".py",
   "mimetype": "text/x-python",
   "name": "python",
   "nbconvert_exporter": "python",
   "pygments_lexer": "ipython3",
   "version": "3.11.3"
  }
 },
 "nbformat": 4,
 "nbformat_minor": 2
}
