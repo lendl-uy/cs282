{
 "cells": [
  {
   "cell_type": "markdown",
   "metadata": {},
   "source": [
    "# CS 282\n",
    "### Programming Assignment 1\n",
    "#### Item 1\n",
    "\n",
    "Jan Lendl R. Uy\n",
    "\n",
    "2019-00312\n",
    "\n",
    "#### Sytem Specifications\n",
    "- macOS Sequoia 15.0.1\n",
    "- Macbook Air M1 (ARM), 8-Core CPU and 8-Core GPU\n",
    "\n",
    "#### Notes when Running the Notebook\n",
    "- For items 1d and 1e, press any key to terminate OpenCV2 windows.\n",
    "  - OpenCV2 windows tend to be buggy when attempted to be closed. They are best terminated through the following:\n",
    "    - For macOS: Click 'Force Quit' in Activity Monitor\n",
    "    - For Windows: Click 'End Task' in Task Manager"
   ]
  },
  {
   "cell_type": "code",
   "execution_count": 1,
   "metadata": {},
   "outputs": [
    {
     "name": "stdout",
     "output_type": "stream",
     "text": [
      "Requirement already satisfied: opencv-python==4.11.0.86 in /Users/lendluy/cs282/venv/lib/python3.11/site-packages (from -r requirements.txt (line 1)) (4.11.0.86)\n",
      "Requirement already satisfied: pillow in /Users/lendluy/cs282/venv/lib/python3.11/site-packages (from -r requirements.txt (line 2)) (11.1.0)\n",
      "Requirement already satisfied: matplotlib in /Users/lendluy/cs282/venv/lib/python3.11/site-packages (from -r requirements.txt (line 3)) (3.10.0)\n",
      "Requirement already satisfied: numpy>=1.21.2 in /Users/lendluy/cs282/venv/lib/python3.11/site-packages (from opencv-python==4.11.0.86->-r requirements.txt (line 1)) (2.2.3)\n",
      "Requirement already satisfied: contourpy>=1.0.1 in /Users/lendluy/cs282/venv/lib/python3.11/site-packages (from matplotlib->-r requirements.txt (line 3)) (1.3.1)\n",
      "Requirement already satisfied: cycler>=0.10 in /Users/lendluy/cs282/venv/lib/python3.11/site-packages (from matplotlib->-r requirements.txt (line 3)) (0.12.1)\n",
      "Requirement already satisfied: fonttools>=4.22.0 in /Users/lendluy/cs282/venv/lib/python3.11/site-packages (from matplotlib->-r requirements.txt (line 3)) (4.56.0)\n",
      "Requirement already satisfied: kiwisolver>=1.3.1 in /Users/lendluy/cs282/venv/lib/python3.11/site-packages (from matplotlib->-r requirements.txt (line 3)) (1.4.8)\n",
      "Requirement already satisfied: packaging>=20.0 in /Users/lendluy/cs282/venv/lib/python3.11/site-packages (from matplotlib->-r requirements.txt (line 3)) (24.2)\n",
      "Requirement already satisfied: pyparsing>=2.3.1 in /Users/lendluy/cs282/venv/lib/python3.11/site-packages (from matplotlib->-r requirements.txt (line 3)) (3.2.1)\n",
      "Requirement already satisfied: python-dateutil>=2.7 in /Users/lendluy/cs282/venv/lib/python3.11/site-packages (from matplotlib->-r requirements.txt (line 3)) (2.9.0.post0)\n",
      "Requirement already satisfied: six>=1.5 in /Users/lendluy/cs282/venv/lib/python3.11/site-packages (from python-dateutil>=2.7->matplotlib->-r requirements.txt (line 3)) (1.17.0)\n",
      "\n",
      "\u001b[1m[\u001b[0m\u001b[34;49mnotice\u001b[0m\u001b[1;39;49m]\u001b[0m\u001b[39;49m A new release of pip available: \u001b[0m\u001b[31;49m22.3.1\u001b[0m\u001b[39;49m -> \u001b[0m\u001b[32;49m25.0.1\u001b[0m\n",
      "\u001b[1m[\u001b[0m\u001b[34;49mnotice\u001b[0m\u001b[1;39;49m]\u001b[0m\u001b[39;49m To update, run: \u001b[0m\u001b[32;49mpip install --upgrade pip\u001b[0m\n"
     ]
    }
   ],
   "source": [
    "!pip install -r requirements.txt"
   ]
  },
  {
   "cell_type": "code",
   "execution_count": 2,
   "metadata": {},
   "outputs": [],
   "source": [
    "import cv2\n",
    "import math"
   ]
  },
  {
   "cell_type": "markdown",
   "metadata": {},
   "source": [
    "### 1(a)\n",
    "\n",
    "Select a negative floating-point number. Take its absolute value, round it, and then take its ceiling and floor. Print the results to screen."
   ]
  },
  {
   "cell_type": "code",
   "execution_count": 3,
   "metadata": {},
   "outputs": [
    {
     "name": "stdout",
     "output_type": "stream",
     "text": [
      "Chosen floating-point number: -5.1444\n",
      "Absolute value of -5.1444: 5.1444\n",
      "Rounded-off value of 5.1444: 5.14\n",
      "Ceiling of 5.14: 6\n",
      "Floor of 5.14: 5\n"
     ]
    }
   ],
   "source": [
    "# x = -5.44444\n",
    "try:\n",
    "    x = float(input(\"Enter a negative floating-point number: \"))\n",
    "    print(f\"Chosen floating-point number: {x}\")\n",
    "except:\n",
    "    raise ValueError(\"Inputted value is not a float!\")\n",
    "\n",
    "y = abs(x)\n",
    "print(f\"Absolute value of {x}: {y}\")\n",
    "\n",
    "z = round(y, 2)\n",
    "print(f\"Rounded-off value of {y}: {z}\")\n",
    "\n",
    "# Note: opencv2 has no built-in functions for getting the ceiling and floor\n",
    "print(f\"Ceiling of {z}: {math.ceil(z)}\")\n",
    "print(f\"Floor of {z}: {math.floor(z)}\")"
   ]
  },
  {
   "cell_type": "markdown",
   "metadata": {},
   "source": [
    "### 1(b)\n",
    "\n",
    "Generate a 3 ×4 matrix whose elements are random integers. Print the matrix."
   ]
  },
  {
   "cell_type": "code",
   "execution_count": 22,
   "metadata": {},
   "outputs": [
    {
     "name": "stdout",
     "output_type": "stream",
     "text": [
      "Random 3x4 matrix:\n",
      "[[131  63   5 237]\n",
      " [220 209 155  88]\n",
      " [ 28  12  58  99]]\n"
     ]
    }
   ],
   "source": [
    "dst_mtx = cv2.UMat(3, 4, cv2.CV_32SC1)\n",
    "\n",
    "# Fill it with random values\n",
    "# Range of possible random values are from 0 to 255\n",
    "cv2.randu(dst_mtx, 0, 256)\n",
    "\n",
    "# Retrieve array from GPU for printing\n",
    "dst_mtx = cv2.UMat.get(dst_mtx)\n",
    "\n",
    "print(f\"Random 3x4 matrix:\\n{dst_mtx}\")"
   ]
  },
  {
   "cell_type": "markdown",
   "metadata": {},
   "source": [
    "### 1(c)\n",
    "\n",
    "Declare matrix variables A,B, and integer variable c within OpenCV. Assign them with the following values:"
   ]
  },
  {
   "cell_type": "code",
   "execution_count": 5,
   "metadata": {},
   "outputs": [],
   "source": [
    "# Note: opencv2 arrays are a wrapper of numpy arrays\n",
    "# Thus, the usage of numpy for matrix operations is inevitable\n",
    "import numpy as np"
   ]
  },
  {
   "cell_type": "code",
   "execution_count": 6,
   "metadata": {},
   "outputs": [],
   "source": [
    "# Convert list of 3x1 tuples to NumPy array and then to cv2.Mat\n",
    "# Note: opencv2 requires an input array of type numpy.array \n",
    "# for initialization\n",
    "A_list = [\n",
    "    [(6, 0, 2), (2, 6, 5), (9, 7, 1)],\n",
    "    [(1, 6, 4), (5, 4, 9), (6, 9, 2)],\n",
    "    [(3, 5, 9), (5, 3, 7), (8, 3, 3)]\n",
    "]\n",
    "\n",
    "A = cv2.Mat(np.array(A_list, dtype=np.float32))\n",
    "\n",
    "B_list = [\n",
    "    [(9, 1, 9), (7, 0, 5), (2, 0, 3)],\n",
    "    [(9, 2, 3), (4, 3, 6), (0, 2, 9)],\n",
    "    [(7, 2, 6), (0, 3, 8), (4, 2, 1)]\n",
    "]\n",
    "\n",
    "B = cv2.Mat(np.array(B_list, dtype=np.float32))\n",
    "\n",
    "c = 0.7\n",
    "d = 0.55"
   ]
  },
  {
   "cell_type": "markdown",
   "metadata": {},
   "source": [
    "### 1(c)(i)\n",
    "\n",
    "$cA+ (1−c)B+ d$"
   ]
  },
  {
   "cell_type": "code",
   "execution_count": 7,
   "metadata": {},
   "outputs": [
    {
     "name": "stdout",
     "output_type": "stream",
     "text": [
      "cA + (1-c)B + d =\n",
      "[[[7.45 0.85 4.65]\n",
      "  [4.05 4.75 5.55]\n",
      "  [7.45 5.45 2.15]]\n",
      "\n",
      " [[3.95 5.35 4.25]\n",
      "  [5.25 4.25 8.65]\n",
      "  [4.75 7.45 4.65]]\n",
      "\n",
      " [[4.75 4.65 8.65]\n",
      "  [4.05 3.55 7.85]\n",
      "  [7.35 3.25 2.95]]]\n"
     ]
    }
   ],
   "source": [
    "answer = cv2.addWeighted(A, c, B, (1-c), d)\n",
    "print(f\"cA + (1-c)B + d =\\n{answer}\")"
   ]
  },
  {
   "cell_type": "markdown",
   "metadata": {},
   "source": [
    "### 1(c)(ii)\n",
    "\n",
    "$A^{-1}$\n",
    "\n",
    "Note: Get the matrix inverse via SVD given the formula $A^{-1} = V_{A} \\Sigma^{-1}_{A} U^T_{A}$, where $V$ is a matrix of right singular vectors, $\\Sigma$ is a diagonal matrix of singular values, and $U$ is a matrix of left singular vectors of A"
   ]
  },
  {
   "cell_type": "code",
   "execution_count": 8,
   "metadata": {},
   "outputs": [],
   "source": [
    "def process_matrix_inverse_by_channel(matrix_array):\n",
    "    \"\"\"\n",
    "    Compute and print the inverse of a matrix separately for each channel.\n",
    "    \"\"\"\n",
    "    # Ensure input is a NumPy array\n",
    "    if not isinstance(matrix_array, np.ndarray):\n",
    "        matrix_array = np.array(matrix_array, dtype=np.float32)\n",
    "    \n",
    "    # Get the shape\n",
    "    rows, cols, channels = matrix_array.shape\n",
    "    \n",
    "    # Process each channel\n",
    "    results = []\n",
    "    for c in range(channels):\n",
    "        # Extract the channel\n",
    "        channel = matrix_array[:, :, c]\n",
    "        \n",
    "        # Perform SVD on this channel\n",
    "        s, u, vt = cv2.SVDecomp(channel)\n",
    "        \n",
    "        # Calculate inverse for this channel\n",
    "        s_reciprocal = 1/s.flatten()\n",
    "        S_inv = np.diag(s_reciprocal)\n",
    "        channel_inv = vt.T @ S_inv @ u.T\n",
    "        \n",
    "        results.append(channel_inv)\n",
    "        \n",
    "    return results"
   ]
  },
  {
   "cell_type": "code",
   "execution_count": 9,
   "metadata": {},
   "outputs": [
    {
     "name": "stdout",
     "output_type": "stream",
     "text": [
      "A_inverse:\n",
      "\n",
      "Channel 0:\n",
      "[[-1.0000005 -2.900001   3.3000014]\n",
      " [-1.0000002 -2.1000006  2.7000008]\n",
      " [ 1.0000002  2.4000006 -2.800001 ]]\n",
      "Channel 1:\n",
      "[[-0.10135134  0.0202703   0.17567565]\n",
      " [ 0.18243243 -0.23648646  0.28378376]\n",
      " [-0.01351352  0.20270269 -0.24324326]]\n",
      "Channel 2:\n",
      "[[ 4.3333316e+00 -2.6666656e+00  3.3333322e-01]\n",
      " [ 1.9999992e+00 -9.9999946e-01 -6.2145446e-08]\n",
      " [-1.7666660e+01  1.0333329e+01 -6.6666621e-01]]\n"
     ]
    }
   ],
   "source": [
    "A_inverse = process_matrix_inverse_by_channel(A_list)\n",
    "print(\"A_inverse:\\n\")\n",
    "for i, channel_result in enumerate(A_inverse):\n",
    "    print(f\"Channel {i}:\\n{channel_result}\")"
   ]
  },
  {
   "cell_type": "markdown",
   "metadata": {},
   "source": [
    "### 1(c)(iii)\n",
    "\n",
    "$eig(B)$"
   ]
  },
  {
   "cell_type": "code",
   "execution_count": 10,
   "metadata": {},
   "outputs": [],
   "source": [
    "def process_matrix_eigenvalues_by_channel(matrix_array):\n",
    "    \"\"\"\n",
    "    Compute eigenvalues of a matrix with channels, returning a NumPy array.\n",
    "    \"\"\"\n",
    "    # Ensure input is a NumPy array\n",
    "    if not isinstance(matrix_array, np.ndarray):\n",
    "        matrix_array = np.array(matrix_array, dtype=np.float32)\n",
    "\n",
    "    # Get the shape\n",
    "    rows, cols, channels = matrix_array.shape\n",
    "    \n",
    "    if rows != cols:\n",
    "        raise ValueError(\"Matrix must be square!\")\n",
    "    \n",
    "    # For a row×col matrix, we'll have min(row,col) eigenvalues\n",
    "    num_eigenvalues = min(rows, cols)\n",
    "        \n",
    "    # Process each channel\n",
    "    results = []\n",
    "    for c in range(channels):\n",
    "        # Extract the channel\n",
    "        channel = matrix_array[:, :, c]\n",
    "        \n",
    "        # Compute eigenvalues\n",
    "        _, eigenvalues, _ = cv2.eigen(channel)\n",
    "        \n",
    "        # Store the eigenvalues in the results array\n",
    "        results.append(eigenvalues)\n",
    "    \n",
    "    return results"
   ]
  },
  {
   "cell_type": "code",
   "execution_count": 11,
   "metadata": {},
   "outputs": [
    {
     "name": "stdout",
     "output_type": "stream",
     "text": [
      "eig(B):\n",
      "\n",
      "Channel 0:\n",
      "[[14.197403 ]\n",
      " [ 3.9999998]\n",
      " [-1.1974022]]\n",
      "Channel 1:\n",
      "[[4.561553  ]\n",
      " [1.        ]\n",
      " [0.43844712]]\n",
      "Channel 2:\n",
      "[[17.032358 ]\n",
      " [ 4.8394666]\n",
      " [-5.8718247]]\n"
     ]
    }
   ],
   "source": [
    "eig_B = process_matrix_eigenvalues_by_channel(B)\n",
    "print(\"eig(B):\\n\")\n",
    "for i, channel_result in enumerate(eig_B):\n",
    "    print(f\"Channel {i}:\\n{channel_result}\")"
   ]
  },
  {
   "cell_type": "markdown",
   "metadata": {},
   "source": [
    "Operation above can be verified by directly obtaining the singular values through SVD as follows."
   ]
  },
  {
   "cell_type": "markdown",
   "metadata": {},
   "source": [
    "### 1(c)(iv)\n",
    "\n",
    "Solve the matrix equation $Ax=b$"
   ]
  },
  {
   "cell_type": "code",
   "execution_count": 12,
   "metadata": {},
   "outputs": [],
   "source": [
    "def solve_matrix_equation_by_channel(A_array, b_array):\n",
    "    \"\"\"\n",
    "    Solve Ax = b for matrices with channels.\n",
    "    \"\"\"\n",
    "\n",
    "    # Get the shapes\n",
    "    rows, cols, channels = A_array.shape\n",
    "        \n",
    "    # Process each channel\n",
    "    results = []\n",
    "    for c in range(channels):\n",
    "        # Extract the channel\n",
    "        A_channel = A_array[:, :, c]\n",
    "        b_channel = b_array[:, c]\n",
    "        \n",
    "        # Solve for this channel\n",
    "        x_channel = cv2.solve(A_channel, b_channel.reshape(-1, 1))[1]\n",
    "        \n",
    "        # Store the result in the corresponding channel\n",
    "        results.append(x_channel)\n",
    "    \n",
    "    return results"
   ]
  },
  {
   "cell_type": "code",
   "execution_count": 13,
   "metadata": {},
   "outputs": [
    {
     "name": "stdout",
     "output_type": "stream",
     "text": [
      "x:\n",
      "\n",
      "Channel 0:\n",
      "[[-10.1]\n",
      " [ -6.9]\n",
      " [  8.6]]\n",
      "Channel 1:\n",
      "[[-0.29054055]\n",
      " [ 0.722973  ]\n",
      " [ 0.0945946 ]]\n",
      "Channel 2:\n",
      "[[ 2.3333333]\n",
      " [ 2.       ]\n",
      " [-9.666667 ]]\n"
     ]
    }
   ],
   "source": [
    "b_list = [\n",
    "    (3, 5, 5),\n",
    "    (7, 2, 8),\n",
    "    (4, 1, 6)\n",
    "]\n",
    "\n",
    "b = cv2.Mat(np.array(b_list, dtype=np.float32))\n",
    "\n",
    "x = solve_matrix_equation_by_channel(A, b)\n",
    "print(\"x:\\n\")\n",
    "for i, channel_result in enumerate(x):\n",
    "    print(f\"Channel {i}:\\n{channel_result}\")"
   ]
  },
  {
   "cell_type": "markdown",
   "metadata": {},
   "source": [
    "### 1(d)\n",
    "\n",
    "Create a 2D matrix with three channels of type byte and size 100-by-100 and set all values to zero. Draw a red rectangle between with corners (30,10) and (60,40). Display this image."
   ]
  },
  {
   "cell_type": "code",
   "execution_count": 14,
   "metadata": {},
   "outputs": [
    {
     "name": "stdout",
     "output_type": "stream",
     "text": [
      "Displaying red rectangle\n"
     ]
    },
    {
     "name": "stderr",
     "output_type": "stream",
     "text": [
      "2025-03-03 21:06:19.488 Python[69123:22071613] +[IMKClient subclass]: chose IMKClient_Legacy\n",
      "2025-03-03 21:06:19.488 Python[69123:22071613] +[IMKInputSession subclass]: chose IMKInputSession_Legacy\n"
     ]
    }
   ],
   "source": [
    "# Initialize 2D tensor (3D matrix) with zeros\n",
    "# Use cv2.CV_8UC3 for byte-type with 3 channels\n",
    "img = cv2.UMat(100, 100, cv2.CV_8UC3)\n",
    "\n",
    "# Fill with zeros\n",
    "cv2.rectangle(img, (0, 0), (100, 100), (0, 0, 0), -1)\n",
    "\n",
    "# Draw red rectangle\n",
    "# Red channel is the last channel in BGR format\n",
    "# Set red channel to 255 in rectangle area\n",
    "# -1 means fill entire shape\n",
    "cv2.rectangle(img, (30, 10), (60, 40), (0, 0, 255), -1)\n",
    "\n",
    "# Display image\n",
    "print(\"Displaying red rectangle\")\n",
    "cv2.imshow(\"Red Rectangle\", img)\n",
    "cv2.waitKey(0)\n",
    "\n",
    "# Clean-up\n",
    "cv2.destroyAllWindows()"
   ]
  },
  {
   "cell_type": "markdown",
   "metadata": {},
   "source": [
    "### 1(e)\n",
    "\n",
    "Copy the red channel in (d) above into another matrix for display as grayscale image."
   ]
  },
  {
   "cell_type": "code",
   "execution_count": 16,
   "metadata": {},
   "outputs": [
    {
     "name": "stdout",
     "output_type": "stream",
     "text": [
      "Displaying red rectangle in grayscale\n"
     ]
    }
   ],
   "source": [
    "# Only get red channel and discard green and blue channels\n",
    "img = img.get()\n",
    "red_channel = img[:, :, 2].copy()\n",
    "\n",
    "# Display the red channel as grayscale\n",
    "print(\"Displaying red rectangle in grayscale\")\n",
    "cv2.imshow(\"Red Channel as Grayscale\", red_channel)\n",
    "cv2.waitKey(0)\n",
    "\n",
    "# Clean-up\n",
    "cv2.destroyAllWindows()"
   ]
  }
 ],
 "metadata": {
  "kernelspec": {
   "display_name": "venv",
   "language": "python",
   "name": "python3"
  },
  "language_info": {
   "codemirror_mode": {
    "name": "ipython",
    "version": 3
   },
   "file_extension": ".py",
   "mimetype": "text/x-python",
   "name": "python",
   "nbconvert_exporter": "python",
   "pygments_lexer": "ipython3",
   "version": "3.11.3"
  }
 },
 "nbformat": 4,
 "nbformat_minor": 2
}
