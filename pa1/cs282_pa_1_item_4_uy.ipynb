{
 "cells": [
  {
   "cell_type": "markdown",
   "metadata": {},
   "source": [
    "# CS 282\n",
    "### Programming Assignment 1\n",
    "#### Item 4\n",
    "\n",
    "Jan Lendl R. Uy\n",
    "\n",
    "2019-00312\n",
    "\n",
    "#### Sytem Specifications\n",
    "- macOS Sequoia 15.0.1\n",
    "- Macbook Air M1 (ARM), 8-Core CPU and 8-Core GPU\n",
    "\n",
    "#### Notes when Running the Notebook\n",
    "- Click 'Run All' so that the video feed is launched immediately\n",
    "  - Press 'q' to terminate OpenCV2 windows.\n",
    "- OpenCV2 windows tend to be buggy when attempted to be closed. They are best terminated through the following:\n",
    "  - For macOS: Click 'Force Quit' in Activity Monitor\n",
    "  - For Windows: Click 'End Task' in Task Manager"
   ]
  },
  {
   "cell_type": "code",
   "execution_count": 7,
   "metadata": {},
   "outputs": [],
   "source": [
    "import cv2\n",
    "import numpy as np # Only used for initialization of zero matrix"
   ]
  },
  {
   "cell_type": "code",
   "execution_count": 8,
   "metadata": {},
   "outputs": [],
   "source": [
    "def create_combined_frame(frame, gray, edges):\n",
    "    # Get dimensions\n",
    "    height = frame.shape[0]\n",
    "    \n",
    "    # Create a frame three times wider for side-by-side display\n",
    "    combined = np.zeros((height, frame.shape[1] * 3, 3), dtype=np.uint8)\n",
    "    \n",
    "    # Convert grayscale and edges to 3-channel for concatenation\n",
    "    gray_3ch = cv2.cvtColor(gray, cv2.COLOR_GRAY2BGR)\n",
    "    edges_3ch = cv2.cvtColor(edges, cv2.COLOR_GRAY2BGR)\n",
    "    \n",
    "    # Copy the three images into the combined frame\n",
    "    combined[:, 0:frame.shape[1]] = frame  # Original\n",
    "    combined[:, frame.shape[1]:frame.shape[1]*2] = gray_3ch  # Grayscale\n",
    "    combined[:, frame.shape[1]*2:] = edges_3ch  # Edges\n",
    "    \n",
    "    # Add labels\n",
    "    font = cv2.FONT_HERSHEY_SIMPLEX\n",
    "    cv2.putText(combined, 'Original', (10, 30), font, 1, (255, 255, 255), 2)\n",
    "    cv2.putText(combined, 'Grayscale', (frame.shape[1] + 10, 30), font, 1, (255, 255, 255), 2)\n",
    "    cv2.putText(combined, 'Edges', (frame.shape[1]*2 + 10, 30), font, 1, (255, 255, 255), 2)\n",
    "    \n",
    "    return combined"
   ]
  },
  {
   "cell_type": "code",
   "execution_count": 9,
   "metadata": {},
   "outputs": [],
   "source": [
    "# Initialize webcam\n",
    "cap = cv2.VideoCapture(1)\n",
    "\n",
    "while True:\n",
    "    # Read frame\n",
    "    ret, frame = cap.read()\n",
    "    if not ret:\n",
    "        print(\"Error: Could not read frame\")\n",
    "        break\n",
    "        \n",
    "    # Process frame\n",
    "    gray = cv2.cvtColor(frame, cv2.COLOR_BGR2GRAY)\n",
    "    \n",
    "    # Perform Canny edge detection\n",
    "    edges = cv2.Canny(gray, 100, 200)\n",
    "    \n",
    "    # Create combined display\n",
    "    combined = create_combined_frame(frame, gray, edges)\n",
    "    \n",
    "    # Show the combined frame\n",
    "    cv2.imshow('Processing Stages', combined)\n",
    "    \n",
    "    # Break loop on 'q' press\n",
    "    if cv2.waitKey(1) & 0xFF == ord('q'):\n",
    "        break\n",
    "\n",
    "# Clean up\n",
    "cap.release()\n",
    "cv2.destroyAllWindows()"
   ]
  }
 ],
 "metadata": {
  "kernelspec": {
   "display_name": "venv",
   "language": "python",
   "name": "python3"
  },
  "language_info": {
   "codemirror_mode": {
    "name": "ipython",
    "version": 3
   },
   "file_extension": ".py",
   "mimetype": "text/x-python",
   "name": "python",
   "nbconvert_exporter": "python",
   "pygments_lexer": "ipython3",
   "version": "3.11.3"
  }
 },
 "nbformat": 4,
 "nbformat_minor": 2
}
