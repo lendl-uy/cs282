{
 "cells": [
  {
   "cell_type": "markdown",
   "metadata": {},
   "source": [
    "# CS 282\n",
    "### Programming Assignment 1\n",
    "#### Item 3\n",
    "\n",
    "Jan Lendl R. Uy\n",
    "\n",
    "2019-00312"
   ]
  },
  {
   "cell_type": "code",
   "execution_count": 1,
   "metadata": {},
   "outputs": [],
   "source": [
    "import cv2\n",
    "import numpy as np\n",
    "from PIL import Image\n",
    "import matplotlib.pyplot as plt\n",
    "from IPython.display import clear_output"
   ]
  },
  {
   "cell_type": "code",
   "execution_count": 2,
   "metadata": {},
   "outputs": [],
   "source": [
    "def read_image(image_path):\n",
    "    \"\"\"Read image in color format for BGR values\"\"\"\n",
    "    try:\n",
    "        # Try reading with OpenCV first\n",
    "        img = cv2.imread(image_path)\n",
    "        if img is not None:\n",
    "            return img\n",
    "        \n",
    "        # If OpenCV fails, try with PIL\n",
    "        pil_img = Image.open(image_path)\n",
    "        # Convert to numpy array\n",
    "        img = np.array(pil_img)\n",
    "        # If image is RGB, convert to BGR for OpenCV\n",
    "        if len(img.shape) == 3 and img.shape[2] == 3:\n",
    "            img = cv2.cvtColor(img, cv2.COLOR_RGB2BGR)\n",
    "        return img\n",
    "    except Exception as e:\n",
    "        print(f\"Error reading image: {e}\")\n",
    "        return None"
   ]
  },
  {
   "cell_type": "code",
   "execution_count": 3,
   "metadata": {},
   "outputs": [],
   "source": [
    "class ImageClickDisplay:\n",
    "    def __init__(self, image_path):\n",
    "        self.image = read_image(image_path)\n",
    "        if self.image is None:\n",
    "            raise ValueError(\"Could not read image\")\n",
    "        self.display_image = self.image.copy()\n",
    "        \n",
    "        # Create window and set mouse callback\n",
    "        cv2.namedWindow('Image')\n",
    "        cv2.setMouseCallback('Image', self.mouse_callback)\n",
    "        \n",
    "        # Font settings\n",
    "        self.font = cv2.FONT_HERSHEY_SIMPLEX\n",
    "        self.font_scale = 0.6\n",
    "        self.font_color = (255, 255, 255)  # White\n",
    "        self.font_thickness = 2\n",
    "        \n",
    "        # For storing last click position\n",
    "        self.last_click = None\n",
    "        \n",
    "    def mouse_callback(self, event, x, y, flags, param):\n",
    "        if event == cv2.EVENT_LBUTTONDOWN:\n",
    "            # Get BGR values at clicked point\n",
    "            b, g, r = self.image[y, x]\n",
    "            \n",
    "            # Create copy of original image\n",
    "            self.display_image = self.image.copy()\n",
    "            \n",
    "            # Store click position\n",
    "            self.last_click = (x, y)\n",
    "            \n",
    "            # Create text to display\n",
    "            text = f\"Coordinates: ({x}, {y})\"\n",
    "            values_text = f\"BGR: ({b}, {g}, {r})\"\n",
    "            \n",
    "            # Calculate text size and position\n",
    "            text_size = cv2.getTextSize(text, self.font, self.font_scale, self.font_thickness)[0]\n",
    "            \n",
    "            # Draw black background rectangle for better visibility\n",
    "            background_margin = 4\n",
    "            cv2.rectangle(self.display_image, \n",
    "                        (x - background_margin, y - text_size[1] - 2*background_margin),\n",
    "                        (x + max(text_size[0], cv2.getTextSize(values_text, self.font, \n",
    "                                                             self.font_scale, \n",
    "                                                             self.font_thickness)[0][0]) + background_margin, \n",
    "                         y),\n",
    "                        (0, 0, 0),\n",
    "                        -1)\n",
    "            \n",
    "            # Draw text\n",
    "            cv2.putText(self.display_image, text, \n",
    "                       (x, y - text_size[1] - background_margin), \n",
    "                       self.font, self.font_scale, self.font_color, self.font_thickness)\n",
    "            cv2.putText(self.display_image, values_text, \n",
    "                       (x, y - background_margin), \n",
    "                       self.font, self.font_scale, self.font_color, self.font_thickness)\n",
    "            \n",
    "            # Update display\n",
    "            cv2.imshow('Image', self.display_image)\n",
    "    \n",
    "    def run(self):\n",
    "        print(\"Click on the image to see pixel coordinates and BGR values.\")\n",
    "        print(\"Press 'q' to quit.\")\n",
    "        \n",
    "        # Main loop\n",
    "        while True:\n",
    "            cv2.imshow('Image', self.display_image)\n",
    "            key = cv2.waitKey(1) & 0xFF\n",
    "            if key == ord('q'):\n",
    "                break\n",
    "        \n",
    "        cv2.destroyAllWindows()"
   ]
  },
  {
   "cell_type": "code",
   "execution_count": null,
   "metadata": {},
   "outputs": [
    {
     "name": "stdout",
     "output_type": "stream",
     "text": [
      "Click on the image to see pixel coordinates and BGR values.\n",
      "Press 'q' to quit.\n"
     ]
    },
    {
     "name": "stderr",
     "output_type": "stream",
     "text": [
      "2025-02-23 23:26:30.588 Python[26582:20803367] +[IMKClient subclass]: chose IMKClient_Legacy\n",
      "2025-02-23 23:26:30.588 Python[26582:20803367] +[IMKInputSession subclass]: chose IMKInputSession_Legacy\n"
     ]
    },
    {
     "ename": "KeyboardInterrupt",
     "evalue": "",
     "output_type": "error",
     "traceback": [
      "\u001b[0;31m---------------------------------------------------------------------------\u001b[0m",
      "\u001b[0;31mKeyboardInterrupt\u001b[0m                         Traceback (most recent call last)",
      "Cell \u001b[0;32mIn[4], line 2\u001b[0m\n\u001b[1;32m      1\u001b[0m image_viewer \u001b[38;5;241m=\u001b[39m ImageClickDisplay(\u001b[38;5;124m'\u001b[39m\u001b[38;5;124mimages/nabi.jpeg\u001b[39m\u001b[38;5;124m'\u001b[39m)\n\u001b[0;32m----> 2\u001b[0m \u001b[43mimage_viewer\u001b[49m\u001b[38;5;241;43m.\u001b[39;49m\u001b[43mrun\u001b[49m\u001b[43m(\u001b[49m\u001b[43m)\u001b[49m\n",
      "Cell \u001b[0;32mIn[3], line 68\u001b[0m, in \u001b[0;36mImageClickDisplay.run\u001b[0;34m(self)\u001b[0m\n\u001b[1;32m     66\u001b[0m \u001b[38;5;28;01mwhile\u001b[39;00m \u001b[38;5;28;01mTrue\u001b[39;00m:\n\u001b[1;32m     67\u001b[0m     cv2\u001b[38;5;241m.\u001b[39mimshow(\u001b[38;5;124m'\u001b[39m\u001b[38;5;124mImage\u001b[39m\u001b[38;5;124m'\u001b[39m, \u001b[38;5;28mself\u001b[39m\u001b[38;5;241m.\u001b[39mdisplay_image)\n\u001b[0;32m---> 68\u001b[0m     key \u001b[38;5;241m=\u001b[39m \u001b[43mcv2\u001b[49m\u001b[38;5;241;43m.\u001b[39;49m\u001b[43mwaitKey\u001b[49m\u001b[43m(\u001b[49m\u001b[38;5;241;43m1\u001b[39;49m\u001b[43m)\u001b[49m \u001b[38;5;241m&\u001b[39m \u001b[38;5;241m0xFF\u001b[39m\n\u001b[1;32m     69\u001b[0m     \u001b[38;5;28;01mif\u001b[39;00m key \u001b[38;5;241m==\u001b[39m \u001b[38;5;28mord\u001b[39m(\u001b[38;5;124m'\u001b[39m\u001b[38;5;124mq\u001b[39m\u001b[38;5;124m'\u001b[39m):\n\u001b[1;32m     70\u001b[0m         \u001b[38;5;28;01mbreak\u001b[39;00m\n",
      "\u001b[0;31mKeyboardInterrupt\u001b[0m: "
     ]
    },
    {
     "ename": "",
     "evalue": "",
     "output_type": "error",
     "traceback": [
      "\u001b[1;31mThe Kernel crashed while executing code in the current cell or a previous cell. \n",
      "\u001b[1;31mPlease review the code in the cell(s) to identify a possible cause of the failure. \n",
      "\u001b[1;31mClick <a href='https://aka.ms/vscodeJupyterKernelCrash'>here</a> for more info. \n",
      "\u001b[1;31mView Jupyter <a href='command:jupyter.viewOutput'>log</a> for further details."
     ]
    }
   ],
   "source": [
    "image_viewer = ImageClickDisplay('images/nabi.jpeg')\n",
    "image_viewer.run()"
   ]
  }
 ],
 "metadata": {
  "kernelspec": {
   "display_name": "venv",
   "language": "python",
   "name": "python3"
  },
  "language_info": {
   "codemirror_mode": {
    "name": "ipython",
    "version": 3
   },
   "file_extension": ".py",
   "mimetype": "text/x-python",
   "name": "python",
   "nbconvert_exporter": "python",
   "pygments_lexer": "ipython3",
   "version": "3.11.3"
  }
 },
 "nbformat": 4,
 "nbformat_minor": 2
}
